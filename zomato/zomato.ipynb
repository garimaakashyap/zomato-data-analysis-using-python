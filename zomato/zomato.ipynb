{
 "cells": [
  {
   "cell_type": "markdown",
   "id": "95d7f5fd-dad9-428a-a176-ad1cf7e150e3",
   "metadata": {},
   "source": [
    "\n",
    "# garima zomato data analysis project\n"
   ]
  },
  {
   "cell_type": "markdown",
   "id": "de0e427e-c860-45bf-9839-497e848e69be",
   "metadata": {},
   "source": [
    "first have to import the libraries"
   ]
  },
  {
   "cell_type": "code",
   "execution_count": 3,
   "id": "70aeea2e-625f-476b-bd05-245c2a75793b",
   "metadata": {},
   "outputs": [],
   "source": [
    "import numpy as np  # used for numerical operation\n",
    "import pandas as pd # used for data manipulation and analysis\n",
    "import matplotlib.pyplot as plt # used for data visulaization\n",
    "import seaborn as sns # used for data visualization"
   ]
  },
  {
   "cell_type": "markdown",
   "id": "b23f3486-7047-4104-9549-e727c72195be",
   "metadata": {},
   "source": [
    "creating dataframe\n"
   ]
  },
  {
   "cell_type": "code",
   "execution_count": 6,
   "id": "8afda59e-6ca9-446b-a2b1-05dc141b1a72",
   "metadata": {},
   "outputs": [
    {
     "name": "stdout",
     "output_type": "stream",
     "text": [
      "                    name online_order book_table   rate  votes  \\\n",
      "0                  Jalsa          Yes        Yes  4.1/5    775   \n",
      "1         Spice Elephant          Yes         No  4.1/5    787   \n",
      "2        San Churro Cafe          Yes         No  3.8/5    918   \n",
      "3  Addhuri Udupi Bhojana           No         No  3.7/5     88   \n",
      "4          Grand Village           No         No  3.8/5    166   \n",
      "\n",
      "   approx_cost(for two people) listed_in(type)  \n",
      "0                          800          Buffet  \n",
      "1                          800          Buffet  \n",
      "2                          800          Buffet  \n",
      "3                          300          Buffet  \n",
      "4                          600          Buffet  \n"
     ]
    }
   ],
   "source": [
    "dataframe = pd.read_csv(\"Zomato data .csv\")\n",
    "print(dataframe.head())"
   ]
  },
  {
   "cell_type": "code",
   "execution_count": 7,
   "id": "d78276f4-811f-4ef6-8fa3-6514faa82ce9",
   "metadata": {},
   "outputs": [
    {
     "data": {
      "text/html": [
       "<div>\n",
       "<style scoped>\n",
       "    .dataframe tbody tr th:only-of-type {\n",
       "        vertical-align: middle;\n",
       "    }\n",
       "\n",
       "    .dataframe tbody tr th {\n",
       "        vertical-align: top;\n",
       "    }\n",
       "\n",
       "    .dataframe thead th {\n",
       "        text-align: right;\n",
       "    }\n",
       "</style>\n",
       "<table border=\"1\" class=\"dataframe\">\n",
       "  <thead>\n",
       "    <tr style=\"text-align: right;\">\n",
       "      <th></th>\n",
       "      <th>name</th>\n",
       "      <th>online_order</th>\n",
       "      <th>book_table</th>\n",
       "      <th>rate</th>\n",
       "      <th>votes</th>\n",
       "      <th>approx_cost(for two people)</th>\n",
       "      <th>listed_in(type)</th>\n",
       "    </tr>\n",
       "  </thead>\n",
       "  <tbody>\n",
       "    <tr>\n",
       "      <th>0</th>\n",
       "      <td>Jalsa</td>\n",
       "      <td>Yes</td>\n",
       "      <td>Yes</td>\n",
       "      <td>4.1/5</td>\n",
       "      <td>775</td>\n",
       "      <td>800</td>\n",
       "      <td>Buffet</td>\n",
       "    </tr>\n",
       "    <tr>\n",
       "      <th>1</th>\n",
       "      <td>Spice Elephant</td>\n",
       "      <td>Yes</td>\n",
       "      <td>No</td>\n",
       "      <td>4.1/5</td>\n",
       "      <td>787</td>\n",
       "      <td>800</td>\n",
       "      <td>Buffet</td>\n",
       "    </tr>\n",
       "    <tr>\n",
       "      <th>2</th>\n",
       "      <td>San Churro Cafe</td>\n",
       "      <td>Yes</td>\n",
       "      <td>No</td>\n",
       "      <td>3.8/5</td>\n",
       "      <td>918</td>\n",
       "      <td>800</td>\n",
       "      <td>Buffet</td>\n",
       "    </tr>\n",
       "    <tr>\n",
       "      <th>3</th>\n",
       "      <td>Addhuri Udupi Bhojana</td>\n",
       "      <td>No</td>\n",
       "      <td>No</td>\n",
       "      <td>3.7/5</td>\n",
       "      <td>88</td>\n",
       "      <td>300</td>\n",
       "      <td>Buffet</td>\n",
       "    </tr>\n",
       "    <tr>\n",
       "      <th>4</th>\n",
       "      <td>Grand Village</td>\n",
       "      <td>No</td>\n",
       "      <td>No</td>\n",
       "      <td>3.8/5</td>\n",
       "      <td>166</td>\n",
       "      <td>600</td>\n",
       "      <td>Buffet</td>\n",
       "    </tr>\n",
       "    <tr>\n",
       "      <th>...</th>\n",
       "      <td>...</td>\n",
       "      <td>...</td>\n",
       "      <td>...</td>\n",
       "      <td>...</td>\n",
       "      <td>...</td>\n",
       "      <td>...</td>\n",
       "      <td>...</td>\n",
       "    </tr>\n",
       "    <tr>\n",
       "      <th>143</th>\n",
       "      <td>Melting Melodies</td>\n",
       "      <td>No</td>\n",
       "      <td>No</td>\n",
       "      <td>3.3/5</td>\n",
       "      <td>0</td>\n",
       "      <td>100</td>\n",
       "      <td>Dining</td>\n",
       "    </tr>\n",
       "    <tr>\n",
       "      <th>144</th>\n",
       "      <td>New Indraprasta</td>\n",
       "      <td>No</td>\n",
       "      <td>No</td>\n",
       "      <td>3.3/5</td>\n",
       "      <td>0</td>\n",
       "      <td>150</td>\n",
       "      <td>Dining</td>\n",
       "    </tr>\n",
       "    <tr>\n",
       "      <th>145</th>\n",
       "      <td>Anna Kuteera</td>\n",
       "      <td>Yes</td>\n",
       "      <td>No</td>\n",
       "      <td>4.0/5</td>\n",
       "      <td>771</td>\n",
       "      <td>450</td>\n",
       "      <td>Dining</td>\n",
       "    </tr>\n",
       "    <tr>\n",
       "      <th>146</th>\n",
       "      <td>Darbar</td>\n",
       "      <td>No</td>\n",
       "      <td>No</td>\n",
       "      <td>3.0/5</td>\n",
       "      <td>98</td>\n",
       "      <td>800</td>\n",
       "      <td>Dining</td>\n",
       "    </tr>\n",
       "    <tr>\n",
       "      <th>147</th>\n",
       "      <td>Vijayalakshmi</td>\n",
       "      <td>Yes</td>\n",
       "      <td>No</td>\n",
       "      <td>3.9/5</td>\n",
       "      <td>47</td>\n",
       "      <td>200</td>\n",
       "      <td>Dining</td>\n",
       "    </tr>\n",
       "  </tbody>\n",
       "</table>\n",
       "<p>148 rows × 7 columns</p>\n",
       "</div>"
      ],
      "text/plain": [
       "                      name online_order book_table   rate  votes  \\\n",
       "0                    Jalsa          Yes        Yes  4.1/5    775   \n",
       "1           Spice Elephant          Yes         No  4.1/5    787   \n",
       "2          San Churro Cafe          Yes         No  3.8/5    918   \n",
       "3    Addhuri Udupi Bhojana           No         No  3.7/5     88   \n",
       "4            Grand Village           No         No  3.8/5    166   \n",
       "..                     ...          ...        ...    ...    ...   \n",
       "143       Melting Melodies           No         No  3.3/5      0   \n",
       "144        New Indraprasta           No         No  3.3/5      0   \n",
       "145           Anna Kuteera          Yes         No  4.0/5    771   \n",
       "146                 Darbar           No         No  3.0/5     98   \n",
       "147          Vijayalakshmi          Yes         No  3.9/5     47   \n",
       "\n",
       "     approx_cost(for two people) listed_in(type)  \n",
       "0                            800          Buffet  \n",
       "1                            800          Buffet  \n",
       "2                            800          Buffet  \n",
       "3                            300          Buffet  \n",
       "4                            600          Buffet  \n",
       "..                           ...             ...  \n",
       "143                          100          Dining  \n",
       "144                          150          Dining  \n",
       "145                          450          Dining  \n",
       "146                          800          Dining  \n",
       "147                          200          Dining  \n",
       "\n",
       "[148 rows x 7 columns]"
      ]
     },
     "execution_count": 7,
     "metadata": {},
     "output_type": "execute_result"
    }
   ],
   "source": [
    "dataframe"
   ]
  },
  {
   "cell_type": "markdown",
   "id": "70372b49-402d-48c7-976c-212f3b63bbb1",
   "metadata": {},
   "source": [
    "## let's convert the data type of the \"rate\" column to float and remove the denominator"
   ]
  },
  {
   "cell_type": "code",
   "execution_count": 9,
   "id": "e8ba86bd-8051-4181-b206-72c74d6b1658",
   "metadata": {},
   "outputs": [
    {
     "name": "stdout",
     "output_type": "stream",
     "text": [
      "                    name online_order book_table  rate  votes  \\\n",
      "0                  Jalsa          Yes        Yes   4.1    775   \n",
      "1         Spice Elephant          Yes         No   4.1    787   \n",
      "2        San Churro Cafe          Yes         No   3.8    918   \n",
      "3  Addhuri Udupi Bhojana           No         No   3.7     88   \n",
      "4          Grand Village           No         No   3.8    166   \n",
      "\n",
      "   approx_cost(for two people) listed_in(type)  \n",
      "0                          800          Buffet  \n",
      "1                          800          Buffet  \n",
      "2                          800          Buffet  \n",
      "3                          300          Buffet  \n",
      "4                          600          Buffet  \n"
     ]
    }
   ],
   "source": [
    "def handleRate(value):\n",
    "    value=str(value).split('/')\n",
    "    value=value[0];\n",
    "    return float(value)\n",
    "\n",
    "dataframe['rate'] = dataframe['rate'].apply(handleRate)\n",
    "print(dataframe.head())"
   ]
  },
  {
   "cell_type": "markdown",
   "id": "8efadaad-6379-445a-ab09-fa1bb2ec14e7",
   "metadata": {},
   "source": [
    "summaryof the dataframe"
   ]
  },
  {
   "cell_type": "code",
   "execution_count": 10,
   "id": "96b48ac8-2608-4aec-8e78-b265333bcd6a",
   "metadata": {},
   "outputs": [
    {
     "name": "stdout",
     "output_type": "stream",
     "text": [
      "<class 'pandas.core.frame.DataFrame'>\n",
      "RangeIndex: 148 entries, 0 to 147\n",
      "Data columns (total 7 columns):\n",
      " #   Column                       Non-Null Count  Dtype  \n",
      "---  ------                       --------------  -----  \n",
      " 0   name                         148 non-null    object \n",
      " 1   online_order                 148 non-null    object \n",
      " 2   book_table                   148 non-null    object \n",
      " 3   rate                         148 non-null    float64\n",
      " 4   votes                        148 non-null    int64  \n",
      " 5   approx_cost(for two people)  148 non-null    int64  \n",
      " 6   listed_in(type)              148 non-null    object \n",
      "dtypes: float64(1), int64(2), object(4)\n",
      "memory usage: 8.2+ KB\n"
     ]
    }
   ],
   "source": [
    "dataframe.info()"
   ]
  },
  {
   "cell_type": "markdown",
   "id": "ee8aa47b-a642-4f76-84e9-60b9bcb8e344",
   "metadata": {},
   "source": [
    "# conclusion: \n",
    "there is no null value in dataframe as we can see.\n",
    "no duplicate\n",
    "so data cleaning is done\n",
    "now we can perform operatios to get our answers"
   ]
  },
  {
   "cell_type": "markdown",
   "id": "fab59e93-f4d1-4a19-83cd-739e85cdca2c",
   "metadata": {},
   "source": [
    "# question:\n",
    "what type of restaurant do the majority fo customers order from?\n",
    "\n"
   ]
  },
  {
   "cell_type": "markdown",
   "id": "1530c589-daef-45ea-afb2-e10e5fa6e554",
   "metadata": {},
   "source": [
    "-> here we have to check from which type fo resturant customer order maximum times so we can create a simple bar graph in x axis we will take type of resturant and in y axis we can take the count so whichever count is maximum from that type customer is ordering much."
   ]
  },
  {
   "cell_type": "code",
   "execution_count": 13,
   "id": "f2c899a8-137d-4d5c-809c-59bd69e3eca2",
   "metadata": {},
   "outputs": [
    {
     "data": {
      "text/plain": [
       "Text(0.5, 0, 'Type of resturant')"
      ]
     },
     "execution_count": 13,
     "metadata": {},
     "output_type": "execute_result"
    },
    {
     "data": {
      "image/png": "[encoded data removed]",
      "text/plain": [
       "<Figure size 640x480 with 1 Axes>"
      ]
     },
     "metadata": {},
     "output_type": "display_data"
    }
   ],
   "source": [
    "sns.countplot(x=dataframe['listed_in(type)'])  # we are using seaborn to create a graph\n",
    "plt.xlabel(\"Type of resturant\")"
   ]
  },
  {
   "cell_type": "markdown",
   "id": "28953a5c-81ee-476b-8293-aab6c8017717",
   "metadata": {},
   "source": [
    "# answer:\n",
    "dining\n",
    "\n",
    "-> we can see dining has maximum number of count\n",
    " the majority of the restaurants fall into the dining category.\n",
    " dining restaurants are preferred by a large number of individuals."
   ]
  },
  {
   "cell_type": "markdown",
   "id": "97902c58-c71c-4bfe-90f4-7df400e7e921",
   "metadata": {},
   "source": [
    "# questions:\n",
    "\n",
    "how many votes has each type of restauran received fro customers?"
   ]
  },
  {
   "cell_type": "markdown",
   "id": "53c687ad-2da7-4513-9035-c39980c57a69",
   "metadata": {},
   "source": [
    "-> here we have to analysis how many votes each type of reataurants are gettion. so for that again we can create a line graph in which, x-axis will be type of restaurant and y-axis will be the votes."
   ]
  },
  {
   "cell_type": "code",
   "execution_count": 19,
   "id": "376a69ec-a431-4b28-a0f8-cbc036214f5d",
   "metadata": {},
   "outputs": [
    {
     "data": {
      "text/plain": [
       "Text(0, 0.5, 'Votes')"
      ]
     },
     "execution_count": 19,
     "metadata": {},
     "output_type": "execute_result"
    },
    {
     "data": {
      "image/png": "[encoded data removed]",
      "text/plain": [
       "<Figure size 640x480 with 1 Axes>"
      ]
     },
     "metadata": {},
     "output_type": "display_data"
    }
   ],
   "source": [
    "# first we are using group by for the sumession of the votes according to the type of resturants\n",
    "grouped_data = dataframe.groupby(\"listed_in(type)\")[\"votes\"].sum()\n",
    "# now making a key value for x and y axis\n",
    "result = pd.DataFrame({\"votes\": grouped_data})\n",
    "# now ploating a line graph\n",
    "plt.plot(result, c=\"pink\", marker=\"o\")\n",
    "# giving title\n",
    "plt.xlabel(\"Type of restaurant\", c=\"blue\", size=20)\n",
    "plt.ylabel(\"Votes\", c=\"green\", size=20)\n"
   ]
  },
  {
   "cell_type": "markdown",
   "id": "fd1cf299-a057-48d0-bc32-d754fc314019",
   "metadata": {},
   "source": [
    "# answer:\n",
    " we can see for each restaurant how many votes they are getting."
   ]
  },
  {
   "cell_type": "markdown",
   "id": "2070ccd2-e209-41d7-bd71-42998b92288c",
   "metadata": {},
   "source": [
    "from here we can make a analysis that dinning restaurant is perfoming better than comparision to other resturants."
   ]
  },
  {
   "cell_type": "markdown",
   "id": "f70c41d8-0a5d-4024-8281-c27a5fd4a62c",
   "metadata": {},
   "source": [
    "# question:"
   ]
  },
  {
   "cell_type": "markdown",
   "id": "896918a9-9606-4c1c-9c43-ba64f37e3955",
   "metadata": {},
   "source": [
    "what are the ratings that the majority of restaurants have received?"
   ]
  },
  {
   "cell_type": "markdown",
   "id": "37d6a312-4bb3-485b-8398-f096042415ae",
   "metadata": {},
   "source": [
    "-> here we have to analysis the average rating the the resurants are receiving. so we can create a histogram in which we can pass our rate column to see the maximum rating lies on which range"
   ]
  },
  {
   "cell_type": "code",
   "execution_count": 21,
   "id": "f46d1947-228c-4cc1-be89-5c79d2c3cf63",
   "metadata": {},
   "outputs": [
    {
     "data": {
      "image/png": "[encoded data removed]",
      "text/plain": [
       "<Figure size 640x480 with 1 Axes>"
      ]
     },
     "metadata": {},
     "output_type": "display_data"
    }
   ],
   "source": [
    "# creating a histogram and passing rate column\n",
    "plt.hist(dataframe['rate'],bins = 5)\n",
    "plt.title(\"Ratings Distribution\") # giving title\n",
    "plt.show()\n"
   ]
  },
  {
   "cell_type": "markdown",
   "id": "332440e1-56f8-46f0-ae6c-25e85bbc8565",
   "metadata": {},
   "source": [
    "# answer:"
   ]
  },
  {
   "cell_type": "markdown",
   "id": "a82739d9-9102-49c2-8a50-ad5ff8c08bc3",
   "metadata": {},
   "source": [
    "the majority of restaurant received ratings ranging from 3.5 to 4.\n"
   ]
  },
  {
   "cell_type": "markdown",
   "id": "4016d96d-473e-4c79-b286-021609c96566",
   "metadata": {},
   "source": [
    "# question"
   ]
  },
  {
   "cell_type": "markdown",
   "id": "eb2876d0-85b3-4c43-b5a7-82a7d589fa84",
   "metadata": {},
   "source": [
    "zomato has observed taht most couples order most of their food online. what is their average spending on each order?"
   ]
  },
  {
   "cell_type": "code",
   "execution_count": null,
   "id": "ece5025a-34f1-4325-b59a-7c5df0ca4969",
   "metadata": {},
   "outputs": [],
   "source": []
  }
 ],
 "metadata": {
  "kernelspec": {
   "display_name": "Python 3 (ipykernel)",
   "language": "python",
   "name": "python3"
  },
  "language_info": {
   "codemirror_mode": {
    "name": "ipython",
    "version": 3
   },
   "file_extension": ".py",
   "mimetype": "text/x-python",
   "name": "python",
   "nbconvert_exporter": "python",
   "pygments_lexer": "ipython3",
   "version": "3.13.5"
  }
 },
 "nbformat": 4,
 "nbformat_minor": 5
}
